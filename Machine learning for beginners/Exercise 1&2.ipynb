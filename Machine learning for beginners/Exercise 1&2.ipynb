{
 "cells": [
  {
   "cell_type": "markdown",
   "metadata": {},
   "source": [
    "## 데이터 분석과 머신러닝 실습 1  "
   ]
  },
  {
   "cell_type": "markdown",
   "metadata": {
    "ExecuteTime": {
     "end_time": "2019-11-23T08:09:23.954661Z",
     "start_time": "2019-11-23T08:09:23.950640Z"
    }
   },
   "source": [
    "<div style=\"text-align: right\"> 작성자 : 데이터사이언스연구소 유광명, 이영생, 임혜원 </div>  "
   ]
  },
  {
   "cell_type": "markdown",
   "metadata": {
    "ExecuteTime": {
     "end_time": "2019-11-23T08:09:59.220332Z",
     "start_time": "2019-11-23T08:09:59.214347Z"
    }
   },
   "source": [
    "---"
   ]
  },
  {
   "cell_type": "markdown",
   "metadata": {},
   "source": [
    "### 1.1 마크다운(Mark Down) 언어 \n",
    "---\n",
    "커맨드모드에서 마크다운 모드로 전환하여 작성(`ESC -> M`) "
   ]
  },
  {
   "cell_type": "markdown",
   "metadata": {},
   "source": [
    "1) 헤드라인(Headline)"
   ]
  },
  {
   "cell_type": "markdown",
   "metadata": {},
   "source": [
    "# 한국전력 신입사원 교육\n",
    "\n",
    "## 한국전력 신입사원 교육\n",
    "\n",
    "### 한국전력 신입사원 교육"
   ]
  },
  {
   "cell_type": "markdown",
   "metadata": {},
   "source": [
    "2) 강조"
   ]
  },
  {
   "cell_type": "markdown",
   "metadata": {},
   "source": [
    "**한국전력 신입사원 교육**"
   ]
  },
  {
   "cell_type": "markdown",
   "metadata": {},
   "source": [
    "3) 목록"
   ]
  },
  {
   "cell_type": "markdown",
   "metadata": {},
   "source": [
    "- 한국전력 신입사원 교육\n",
    "- 입소를 축하드립니다."
   ]
  },
  {
   "cell_type": "markdown",
   "metadata": {
    "ExecuteTime": {
     "end_time": "2019-11-21T14:23:11.702096Z",
     "start_time": "2019-11-21T14:23:11.694115Z"
    }
   },
   "source": [
    "* 목록1\n",
    "+ 목록2"
   ]
  },
  {
   "cell_type": "markdown",
   "metadata": {},
   "source": [
    "4) 코드 하이라이트"
   ]
  },
  {
   "cell_type": "markdown",
   "metadata": {},
   "source": [
    "```\n",
    "    print(\"Hello, world\")\n",
    "```"
   ]
  },
  {
   "cell_type": "markdown",
   "metadata": {},
   "source": [
    "5) 기타"
   ]
  },
  {
   "cell_type": "markdown",
   "metadata": {},
   "source": [
    "`마크다운` 사용하기"
   ]
  },
  {
   "cell_type": "markdown",
   "metadata": {},
   "source": [
    "인용문\n",
    "> 인용<br>\n",
    " 인용하기"
   ]
  },
  {
   "cell_type": "code",
   "execution_count": null,
   "metadata": {},
   "outputs": [],
   "source": []
  },
  {
   "cell_type": "markdown",
   "metadata": {},
   "source": [
    "### 1.2 파이썬 코드 \n",
    "---\n",
    "커맨드모드에서 코드 모드로 전환하여 작성(`ESC -> Y -> Enter`)  \n",
    "코드를 실행할 때는 `Shift+Enter` 또는 `Ctrl+Enter`"
   ]
  },
  {
   "cell_type": "markdown",
   "metadata": {},
   "source": [
    "1) 코드 1"
   ]
  },
  {
   "cell_type": "code",
   "execution_count": 1,
   "metadata": {
    "ExecuteTime": {
     "end_time": "2019-11-23T02:48:15.752425Z",
     "start_time": "2019-11-23T02:48:15.745476Z"
    }
   },
   "outputs": [
    {
     "name": "stdout",
     "output_type": "stream",
     "text": [
      "한국전력 신입사원\n"
     ]
    }
   ],
   "source": [
    "company = '한국전력'\n",
    "blank = ' '\n",
    "rank = '신입사원'\n",
    "print(company+blank+rank)"
   ]
  },
  {
   "cell_type": "markdown",
   "metadata": {},
   "source": [
    "2) 코드 2"
   ]
  },
  {
   "cell_type": "code",
   "execution_count": 2,
   "metadata": {
    "ExecuteTime": {
     "end_time": "2019-11-23T02:48:19.333879Z",
     "start_time": "2019-11-23T02:48:19.328860Z"
    }
   },
   "outputs": [
    {
     "name": "stdout",
     "output_type": "stream",
     "text": [
      "12\n"
     ]
    }
   ],
   "source": [
    "a = 10\n",
    "b = 2\n",
    "c = a+b\n",
    "print(a+b)"
   ]
  },
  {
   "cell_type": "markdown",
   "metadata": {},
   "source": [
    "3) 코드 3"
   ]
  },
  {
   "cell_type": "code",
   "execution_count": 3,
   "metadata": {
    "ExecuteTime": {
     "end_time": "2019-11-23T02:48:19.829536Z",
     "start_time": "2019-11-23T02:48:19.824534Z"
    }
   },
   "outputs": [
    {
     "name": "stdout",
     "output_type": "stream",
     "text": [
      "result is 5.0\n"
     ]
    }
   ],
   "source": [
    "# print문\n",
    "print('result is', a/b)"
   ]
  },
  {
   "cell_type": "markdown",
   "metadata": {},
   "source": [
    "4) 코드 4"
   ]
  },
  {
   "cell_type": "code",
   "execution_count": 4,
   "metadata": {
    "ExecuteTime": {
     "end_time": "2019-11-23T02:48:22.094473Z",
     "start_time": "2019-11-23T02:48:22.089478Z"
    }
   },
   "outputs": [
    {
     "name": "stdout",
     "output_type": "stream",
     "text": [
      "곱셈: 20, 나눗셈:  5.00\n"
     ]
    }
   ],
   "source": [
    "print('곱셈: {0}, 나눗셈: {1: .2f}'.format(a*b, a/b))"
   ]
  },
  {
   "cell_type": "code",
   "execution_count": null,
   "metadata": {},
   "outputs": [],
   "source": []
  },
  {
   "cell_type": "markdown",
   "metadata": {},
   "source": [
    "## 데이터 분석과 머신러닝 실습 2"
   ]
  },
  {
   "cell_type": "markdown",
   "metadata": {},
   "source": [
    "### 2.1 내장 자료형(Built-in types)\n",
    "---\n",
    "파이썬의 자료형은 Boolean (true/false), Numeric, Sequence (list, tuple), Text, Set, Mapping (dictionary) 등이 있습니다. "
   ]
  },
  {
   "cell_type": "markdown",
   "metadata": {},
   "source": [
    "**1) Boolean**  \n",
    "부울(bool) 자료형은 참과 거짓을 나타내는 자료형입니다. 따라서 `True`, `False` 두 가지 값만 가질 수 있습니다."
   ]
  },
  {
   "cell_type": "code",
   "execution_count": 5,
   "metadata": {
    "ExecuteTime": {
     "end_time": "2019-11-23T02:48:45.156800Z",
     "start_time": "2019-11-23T02:48:45.152808Z"
    }
   },
   "outputs": [],
   "source": [
    "a = True\n",
    "b = False"
   ]
  },
  {
   "cell_type": "code",
   "execution_count": 6,
   "metadata": {
    "ExecuteTime": {
     "end_time": "2019-11-23T02:48:45.406164Z",
     "start_time": "2019-11-23T02:48:45.395162Z"
    }
   },
   "outputs": [
    {
     "data": {
      "text/plain": [
       "True"
      ]
     },
     "execution_count": 6,
     "metadata": {},
     "output_type": "execute_result"
    }
   ],
   "source": [
    "a"
   ]
  },
  {
   "cell_type": "code",
   "execution_count": 7,
   "metadata": {
    "ExecuteTime": {
     "end_time": "2019-11-23T02:48:45.616568Z",
     "start_time": "2019-11-23T02:48:45.609619Z"
    }
   },
   "outputs": [
    {
     "data": {
      "text/plain": [
       "bool"
      ]
     },
     "execution_count": 7,
     "metadata": {},
     "output_type": "execute_result"
    }
   ],
   "source": [
    "type(a) # 변수의 자료형(타입)을 확인하는 함수"
   ]
  },
  {
   "cell_type": "code",
   "execution_count": 8,
   "metadata": {
    "ExecuteTime": {
     "end_time": "2019-11-23T02:48:46.151175Z",
     "start_time": "2019-11-23T02:48:46.146189Z"
    }
   },
   "outputs": [
    {
     "data": {
      "text/plain": [
       "True"
      ]
     },
     "execution_count": 8,
     "metadata": {},
     "output_type": "execute_result"
    }
   ],
   "source": [
    "1 == 1 # 결과가 boolean 타입"
   ]
  },
  {
   "cell_type": "code",
   "execution_count": 9,
   "metadata": {
    "ExecuteTime": {
     "end_time": "2019-11-23T02:48:46.593957Z",
     "start_time": "2019-11-23T02:48:46.587971Z"
    }
   },
   "outputs": [
    {
     "data": {
      "text/plain": [
       "True"
      ]
     },
     "execution_count": 9,
     "metadata": {},
     "output_type": "execute_result"
    }
   ],
   "source": [
    "True == 1"
   ]
  },
  {
   "cell_type": "markdown",
   "metadata": {},
   "source": [
    "**2) Numeric**  \n",
    "덧셈 `+`, 뺄셈 `-`, 곱셈 `*`, 나눗셈 `/`\n",
    "거듭제곱 `**` 등 산술연산이 가능합니다."
   ]
  },
  {
   "cell_type": "code",
   "execution_count": 10,
   "metadata": {
    "ExecuteTime": {
     "end_time": "2019-11-23T02:48:50.894457Z",
     "start_time": "2019-11-23T02:48:50.890466Z"
    }
   },
   "outputs": [],
   "source": [
    "a = 10\n",
    "b = 10."
   ]
  },
  {
   "cell_type": "code",
   "execution_count": 11,
   "metadata": {
    "ExecuteTime": {
     "end_time": "2019-11-23T02:48:51.709277Z",
     "start_time": "2019-11-23T02:48:51.704290Z"
    }
   },
   "outputs": [
    {
     "data": {
      "text/plain": [
       "int"
      ]
     },
     "execution_count": 11,
     "metadata": {},
     "output_type": "execute_result"
    }
   ],
   "source": [
    "type(a)"
   ]
  },
  {
   "cell_type": "code",
   "execution_count": 12,
   "metadata": {
    "ExecuteTime": {
     "end_time": "2019-11-23T02:48:52.326662Z",
     "start_time": "2019-11-23T02:48:52.321638Z"
    }
   },
   "outputs": [
    {
     "data": {
      "text/plain": [
       "float"
      ]
     },
     "execution_count": 12,
     "metadata": {},
     "output_type": "execute_result"
    }
   ],
   "source": [
    "type(b)"
   ]
  },
  {
   "cell_type": "code",
   "execution_count": 13,
   "metadata": {
    "ExecuteTime": {
     "end_time": "2019-11-23T02:48:52.720575Z",
     "start_time": "2019-11-23T02:48:52.715586Z"
    }
   },
   "outputs": [
    {
     "data": {
      "text/plain": [
       "0.78125"
      ]
     },
     "execution_count": 13,
     "metadata": {},
     "output_type": "execute_result"
    }
   ],
   "source": [
    "2 * (5.0 / 8.0 - 1.25) ** 2"
   ]
  },
  {
   "cell_type": "code",
   "execution_count": 14,
   "metadata": {
    "ExecuteTime": {
     "end_time": "2019-11-23T02:49:02.390750Z",
     "start_time": "2019-11-23T02:49:02.384731Z"
    }
   },
   "outputs": [
    {
     "data": {
      "text/plain": [
       "0.625"
      ]
     },
     "execution_count": 14,
     "metadata": {},
     "output_type": "execute_result"
    }
   ],
   "source": [
    "5 / 8"
   ]
  },
  {
   "cell_type": "code",
   "execution_count": 15,
   "metadata": {
    "ExecuteTime": {
     "end_time": "2019-11-23T02:49:02.751749Z",
     "start_time": "2019-11-23T02:49:02.744768Z"
    }
   },
   "outputs": [
    {
     "data": {
      "text/plain": [
       "0"
      ]
     },
     "execution_count": 15,
     "metadata": {},
     "output_type": "execute_result"
    }
   ],
   "source": [
    "5 // 8 #나눗셈의 몫"
   ]
  },
  {
   "cell_type": "code",
   "execution_count": 16,
   "metadata": {
    "ExecuteTime": {
     "end_time": "2019-11-23T02:49:02.966189Z",
     "start_time": "2019-11-23T02:49:02.961190Z"
    }
   },
   "outputs": [
    {
     "data": {
      "text/plain": [
       "0.0"
      ]
     },
     "execution_count": 16,
     "metadata": {},
     "output_type": "execute_result"
    }
   ],
   "source": [
    "5.0 // 8.0"
   ]
  },
  {
   "cell_type": "code",
   "execution_count": 17,
   "metadata": {
    "ExecuteTime": {
     "end_time": "2019-11-23T02:49:05.684939Z",
     "start_time": "2019-11-23T02:49:05.680917Z"
    }
   },
   "outputs": [
    {
     "data": {
      "text/plain": [
       "3"
      ]
     },
     "execution_count": 17,
     "metadata": {},
     "output_type": "execute_result"
    }
   ],
   "source": [
    "8 % 5 #나눗셈의 나머지"
   ]
  },
  {
   "cell_type": "markdown",
   "metadata": {
    "ExecuteTime": {
     "end_time": "2019-11-21T14:41:35.328105Z",
     "start_time": "2019-11-21T14:41:35.323083Z"
    }
   },
   "source": [
    "`+=`와 `-=`를 이용해 값을 증감시킬 수도 있습니다. "
   ]
  },
  {
   "cell_type": "code",
   "execution_count": 18,
   "metadata": {
    "ExecuteTime": {
     "end_time": "2019-11-23T02:49:06.141717Z",
     "start_time": "2019-11-23T02:49:06.137699Z"
    }
   },
   "outputs": [
    {
     "name": "stdout",
     "output_type": "stream",
     "text": [
      "11\n"
     ]
    }
   ],
   "source": [
    "x = 10\n",
    "x += 1\n",
    "print(x)"
   ]
  },
  {
   "cell_type": "markdown",
   "metadata": {},
   "source": [
    "**3) String**  \n",
    "문자열 데이터는 따옴표로 둘러싸여 있습니다."
   ]
  },
  {
   "cell_type": "code",
   "execution_count": 19,
   "metadata": {
    "ExecuteTime": {
     "end_time": "2019-11-23T02:49:07.606800Z",
     "start_time": "2019-11-23T02:49:07.600784Z"
    }
   },
   "outputs": [
    {
     "data": {
      "text/plain": [
       "'Hello world!'"
      ]
     },
     "execution_count": 19,
     "metadata": {},
     "output_type": "execute_result"
    }
   ],
   "source": [
    "x1 = \"Hello world!\"\n",
    "x1"
   ]
  },
  {
   "cell_type": "code",
   "execution_count": 20,
   "metadata": {
    "ExecuteTime": {
     "end_time": "2019-11-23T02:49:10.310540Z",
     "start_time": "2019-11-23T02:49:10.305553Z"
    }
   },
   "outputs": [
    {
     "data": {
      "text/plain": [
       "'Python is fun.'"
      ]
     },
     "execution_count": 20,
     "metadata": {},
     "output_type": "execute_result"
    }
   ],
   "source": [
    "x2 = 'Python is fun.'\n",
    "x2"
   ]
  },
  {
   "cell_type": "code",
   "execution_count": 21,
   "metadata": {
    "ExecuteTime": {
     "end_time": "2019-11-23T02:49:10.509048Z",
     "start_time": "2019-11-23T02:49:10.504053Z"
    }
   },
   "outputs": [
    {
     "data": {
      "text/plain": [
       "str"
      ]
     },
     "execution_count": 21,
     "metadata": {},
     "output_type": "execute_result"
    }
   ],
   "source": [
    "type(x2)"
   ]
  },
  {
   "cell_type": "code",
   "execution_count": 22,
   "metadata": {
    "ExecuteTime": {
     "end_time": "2019-11-23T02:49:10.702522Z",
     "start_time": "2019-11-23T02:49:10.697504Z"
    }
   },
   "outputs": [
    {
     "data": {
      "text/plain": [
       "\"it's a book.\""
      ]
     },
     "execution_count": 22,
     "metadata": {},
     "output_type": "execute_result"
    }
   ],
   "source": [
    "y1 = \"it's a book.\" # 큰 따옴표를 이용해 작은 따옴표 삽입\n",
    "y1"
   ]
  },
  {
   "cell_type": "code",
   "execution_count": 23,
   "metadata": {
    "ExecuteTime": {
     "end_time": "2019-11-23T02:49:10.862095Z",
     "start_time": "2019-11-23T02:49:10.856134Z"
    }
   },
   "outputs": [
    {
     "data": {
      "text/plain": [
       "'\"Very good.\" he says.'"
      ]
     },
     "execution_count": 23,
     "metadata": {},
     "output_type": "execute_result"
    }
   ],
   "source": [
    "y2 = '\"Very good.\" he says.' # 작은 따옴표를 이용해 큰 따옴표 삽입\n",
    "y2"
   ]
  },
  {
   "cell_type": "code",
   "execution_count": 24,
   "metadata": {
    "ExecuteTime": {
     "end_time": "2019-11-23T02:49:15.925524Z",
     "start_time": "2019-11-23T02:49:15.919540Z"
    }
   },
   "outputs": [
    {
     "data": {
      "text/plain": [
       "str"
      ]
     },
     "execution_count": 24,
     "metadata": {},
     "output_type": "execute_result"
    }
   ],
   "source": [
    "num = \"123\"\n",
    "type(num)"
   ]
  },
  {
   "cell_type": "code",
   "execution_count": 25,
   "metadata": {
    "ExecuteTime": {
     "end_time": "2019-11-23T02:49:16.319524Z",
     "start_time": "2019-11-23T02:49:16.313489Z"
    }
   },
   "outputs": [
    {
     "data": {
      "text/plain": [
       "'Python is fun!'"
      ]
     },
     "execution_count": 25,
     "metadata": {},
     "output_type": "execute_result"
    }
   ],
   "source": [
    "# 문자열 연산하기\n",
    "a = \"Python \" + \"is fun!\"\n",
    "a"
   ]
  },
  {
   "cell_type": "code",
   "execution_count": 26,
   "metadata": {
    "ExecuteTime": {
     "end_time": "2019-11-23T02:49:16.572824Z",
     "start_time": "2019-11-23T02:49:16.567806Z"
    }
   },
   "outputs": [
    {
     "data": {
      "text/plain": [
       "'PythonPython'"
      ]
     },
     "execution_count": 26,
     "metadata": {},
     "output_type": "execute_result"
    }
   ],
   "source": [
    "b = \"Python\"*2\n",
    "b"
   ]
  },
  {
   "cell_type": "markdown",
   "metadata": {},
   "source": [
    "문자열 길이 구하기"
   ]
  },
  {
   "cell_type": "code",
   "execution_count": 27,
   "metadata": {
    "ExecuteTime": {
     "end_time": "2019-11-23T02:49:17.307863Z",
     "start_time": "2019-11-23T02:49:17.303839Z"
    }
   },
   "outputs": [
    {
     "data": {
      "text/plain": [
       "17"
      ]
     },
     "execution_count": 27,
     "metadata": {},
     "output_type": "execute_result"
    }
   ],
   "source": [
    "c = \"Life is too short\"\n",
    "len(c)"
   ]
  },
  {
   "cell_type": "markdown",
   "metadata": {},
   "source": [
    "**중요** : 문자열 인덱싱과 슬라이싱"
   ]
  },
  {
   "cell_type": "markdown",
   "metadata": {},
   "source": [
    "<img src=\"img/string_index.PNG\" width = '400'>"
   ]
  },
  {
   "cell_type": "code",
   "execution_count": 28,
   "metadata": {
    "ExecuteTime": {
     "end_time": "2019-11-23T02:49:21.162522Z",
     "start_time": "2019-11-23T02:49:21.156538Z"
    }
   },
   "outputs": [],
   "source": [
    "s = \"Katrine\""
   ]
  },
  {
   "cell_type": "code",
   "execution_count": 29,
   "metadata": {
    "ExecuteTime": {
     "end_time": "2019-11-23T02:49:21.355007Z",
     "start_time": "2019-11-23T02:49:21.347028Z"
    }
   },
   "outputs": [
    {
     "name": "stdout",
     "output_type": "stream",
     "text": [
      "s[2] == t\n",
      "s[2:5] == tri\n",
      "s[:-3] == Katr\n",
      "s[2:] == trine\n",
      "s[:] == Katrine\n",
      "s[1:-1:2] == arn\n",
      "s[::-1] == enirtaK\n"
     ]
    }
   ],
   "source": [
    "print(\"s[2] ==\", s[2])\n",
    "print(\"s[2:5] ==\", s[2:5])\n",
    "print(\"s[:-3] ==\", s[:-3])\n",
    "print(\"s[2:] ==\", s[2:])\n",
    "print(\"s[:] ==\", s[:])\n",
    "print(\"s[1:-1:2] ==\", s[1:-1:2])\n",
    "print(\"s[::-1] ==\", s[::-1])"
   ]
  },
  {
   "cell_type": "code",
   "execution_count": 30,
   "metadata": {
    "ExecuteTime": {
     "end_time": "2019-11-23T02:49:21.552480Z",
     "start_time": "2019-11-23T02:49:21.546529Z"
    }
   },
   "outputs": [
    {
     "name": "stdout",
     "output_type": "stream",
     "text": [
      "2019-08-29 (Thu) Sunny\n"
     ]
    }
   ],
   "source": [
    "s = \"20190829ThuSunny\"\n",
    "year = s[0:4]\n",
    "month = s[4:6]\n",
    "day = s[6:8]\n",
    "dayOfWeek = s[8:11]\n",
    "weather = s[11:]\n",
    "\n",
    "print(\"{}-{}-{} ({}) {}\".format(year, month, day, dayOfWeek, weather))"
   ]
  },
  {
   "cell_type": "markdown",
   "metadata": {},
   "source": [
    "**4) List**  \n",
    "- 순서가 있는 원소들의 집합으로 수정, 삭제, 추가가 가능합니다. \n",
    "- 대괄호`[]`로 묶어주고 `,`로 원소를 구분합니다. \n",
    "- 여러 타입이 함께 포함될 수 있고, 인덱스는 0부터 시작합니다."
   ]
  },
  {
   "cell_type": "code",
   "execution_count": 31,
   "metadata": {
    "ExecuteTime": {
     "end_time": "2019-11-23T02:49:28.062074Z",
     "start_time": "2019-11-23T02:49:28.057087Z"
    }
   },
   "outputs": [],
   "source": [
    "a = list()\n",
    "b = []"
   ]
  },
  {
   "cell_type": "code",
   "execution_count": 32,
   "metadata": {
    "ExecuteTime": {
     "end_time": "2019-11-23T02:49:28.358283Z",
     "start_time": "2019-11-23T02:49:28.353293Z"
    }
   },
   "outputs": [
    {
     "data": {
      "text/plain": [
       "[]"
      ]
     },
     "execution_count": 32,
     "metadata": {},
     "output_type": "execute_result"
    }
   ],
   "source": [
    "a"
   ]
  },
  {
   "cell_type": "code",
   "execution_count": 33,
   "metadata": {
    "ExecuteTime": {
     "end_time": "2019-11-23T02:49:28.638563Z",
     "start_time": "2019-11-23T02:49:28.633544Z"
    }
   },
   "outputs": [
    {
     "data": {
      "text/plain": [
       "[1, 2, 3, 4, 5]"
      ]
     },
     "execution_count": 33,
     "metadata": {},
     "output_type": "execute_result"
    }
   ],
   "source": [
    "a = [1, 2, 3, 4, 5]\n",
    "a"
   ]
  },
  {
   "cell_type": "code",
   "execution_count": 34,
   "metadata": {
    "ExecuteTime": {
     "end_time": "2019-11-23T02:49:30.750915Z",
     "start_time": "2019-11-23T02:49:30.744930Z"
    }
   },
   "outputs": [
    {
     "data": {
      "text/plain": [
       "['a', 2, 5, 'hi', 4]"
      ]
     },
     "execution_count": 34,
     "metadata": {},
     "output_type": "execute_result"
    }
   ],
   "source": [
    "b = ['a', 2, 5, 'hi', 4]\n",
    "b"
   ]
  },
  {
   "cell_type": "code",
   "execution_count": 35,
   "metadata": {
    "ExecuteTime": {
     "end_time": "2019-11-23T02:49:31.006619Z",
     "start_time": "2019-11-23T02:49:31.001599Z"
    }
   },
   "outputs": [
    {
     "data": {
      "text/plain": [
       "5"
      ]
     },
     "execution_count": 35,
     "metadata": {},
     "output_type": "execute_result"
    }
   ],
   "source": [
    "len(a)"
   ]
  },
  {
   "cell_type": "code",
   "execution_count": 36,
   "metadata": {
    "ExecuteTime": {
     "end_time": "2019-11-23T02:49:31.244987Z",
     "start_time": "2019-11-23T02:49:31.239962Z"
    }
   },
   "outputs": [
    {
     "data": {
      "text/plain": [
       "list"
      ]
     },
     "execution_count": 36,
     "metadata": {},
     "output_type": "execute_result"
    }
   ],
   "source": [
    "type(a)"
   ]
  },
  {
   "cell_type": "markdown",
   "metadata": {},
   "source": [
    "**중요** : 리스트의 인덱싱과 슬라이싱"
   ]
  },
  {
   "cell_type": "code",
   "execution_count": 37,
   "metadata": {
    "ExecuteTime": {
     "end_time": "2019-11-23T02:49:34.606959Z",
     "start_time": "2019-11-23T02:49:34.600975Z"
    }
   },
   "outputs": [
    {
     "data": {
      "text/plain": [
       "2"
      ]
     },
     "execution_count": 37,
     "metadata": {},
     "output_type": "execute_result"
    }
   ],
   "source": [
    "a = [1, 2, 3, 4, 5]\n",
    "a[1]"
   ]
  },
  {
   "cell_type": "code",
   "execution_count": 38,
   "metadata": {
    "ExecuteTime": {
     "end_time": "2019-11-23T02:49:35.261242Z",
     "start_time": "2019-11-23T02:49:35.256223Z"
    }
   },
   "outputs": [
    {
     "data": {
      "text/plain": [
       "[1, 2]"
      ]
     },
     "execution_count": 38,
     "metadata": {},
     "output_type": "execute_result"
    }
   ],
   "source": [
    "a[0:2]"
   ]
  },
  {
   "cell_type": "code",
   "execution_count": 39,
   "metadata": {
    "ExecuteTime": {
     "end_time": "2019-11-23T02:49:39.565699Z",
     "start_time": "2019-11-23T02:49:39.560713Z"
    }
   },
   "outputs": [
    {
     "data": {
      "text/plain": [
       "4"
      ]
     },
     "execution_count": 39,
     "metadata": {},
     "output_type": "execute_result"
    }
   ],
   "source": [
    "a[0] + a[2]"
   ]
  },
  {
   "cell_type": "markdown",
   "metadata": {},
   "source": [
    "**중요** : 리스트의 연산  \n",
    "- 문자열과 마찬가지로 `+`를 이용해 더할 수 있고, `*`를 이용해 반복할 수 있습니다."
   ]
  },
  {
   "cell_type": "code",
   "execution_count": 40,
   "metadata": {
    "ExecuteTime": {
     "end_time": "2019-11-23T02:49:42.885855Z",
     "start_time": "2019-11-23T02:49:42.879837Z"
    }
   },
   "outputs": [
    {
     "data": {
      "text/plain": [
       "[1, 2, 3, 4, 5, 6]"
      ]
     },
     "execution_count": 40,
     "metadata": {},
     "output_type": "execute_result"
    }
   ],
   "source": [
    "a = [1, 2, 3]\n",
    "b = [4, 5, 6]\n",
    "a + b"
   ]
  },
  {
   "cell_type": "code",
   "execution_count": 41,
   "metadata": {
    "ExecuteTime": {
     "end_time": "2019-11-23T02:49:43.102277Z",
     "start_time": "2019-11-23T02:49:43.097256Z"
    }
   },
   "outputs": [
    {
     "data": {
      "text/plain": [
       "[1, 2, 3, 1, 2, 3, 1, 2, 3]"
      ]
     },
     "execution_count": 41,
     "metadata": {},
     "output_type": "execute_result"
    }
   ],
   "source": [
    "a * 3"
   ]
  },
  {
   "cell_type": "markdown",
   "metadata": {
    "ExecuteTime": {
     "end_time": "2019-11-21T14:49:43.921606Z",
     "start_time": "2019-11-21T14:49:43.917613Z"
    }
   },
   "source": [
    "리스트 변경하기"
   ]
  },
  {
   "cell_type": "code",
   "execution_count": 42,
   "metadata": {
    "ExecuteTime": {
     "end_time": "2019-11-23T02:49:43.477368Z",
     "start_time": "2019-11-23T02:49:43.472254Z"
    }
   },
   "outputs": [
    {
     "data": {
      "text/plain": [
       "[1, 2, 3]"
      ]
     },
     "execution_count": 42,
     "metadata": {},
     "output_type": "execute_result"
    }
   ],
   "source": [
    "a"
   ]
  },
  {
   "cell_type": "code",
   "execution_count": 43,
   "metadata": {
    "ExecuteTime": {
     "end_time": "2019-11-23T02:49:43.639812Z",
     "start_time": "2019-11-23T02:49:43.634819Z"
    }
   },
   "outputs": [
    {
     "data": {
      "text/plain": [
       "[1, 2, 7]"
      ]
     },
     "execution_count": 43,
     "metadata": {},
     "output_type": "execute_result"
    }
   ],
   "source": [
    "a[2]=7\n",
    "a"
   ]
  },
  {
   "cell_type": "code",
   "execution_count": 44,
   "metadata": {
    "ExecuteTime": {
     "end_time": "2019-11-23T02:49:45.484905Z",
     "start_time": "2019-11-23T02:49:45.480883Z"
    }
   },
   "outputs": [
    {
     "data": {
      "text/plain": [
       "[1, 2, 7, 9]"
      ]
     },
     "execution_count": 44,
     "metadata": {},
     "output_type": "execute_result"
    }
   ],
   "source": [
    "a.append(9)\n",
    "a"
   ]
  },
  {
   "cell_type": "code",
   "execution_count": 45,
   "metadata": {
    "ExecuteTime": {
     "end_time": "2019-11-23T02:49:45.702967Z",
     "start_time": "2019-11-23T02:49:45.697981Z"
    }
   },
   "outputs": [
    {
     "data": {
      "text/plain": [
       "[1, 2, 7]"
      ]
     },
     "execution_count": 45,
     "metadata": {},
     "output_type": "execute_result"
    }
   ],
   "source": [
    "# 맨 마지막 요소 삭제하기\n",
    "a.pop()\n",
    "a"
   ]
  },
  {
   "cell_type": "markdown",
   "metadata": {
    "ExecuteTime": {
     "end_time": "2019-11-21T14:50:28.921312Z",
     "start_time": "2019-11-21T14:50:28.916289Z"
    }
   },
   "source": [
    "리스트의 정렬  \n",
    "- `sort()`를 쓰면 리스트가 정렬되면서 리스트 값도 변경됩니다. \n",
    "- `sorted()`를 쓰면 리스트가 정렬되어도 리스트 값이 변경되지 않기 때문에 정렬된 값을 따로 저장해야 합니다. "
   ]
  },
  {
   "cell_type": "code",
   "execution_count": 46,
   "metadata": {
    "ExecuteTime": {
     "end_time": "2019-11-23T02:49:46.021119Z",
     "start_time": "2019-11-23T02:49:46.016129Z"
    }
   },
   "outputs": [
    {
     "data": {
      "text/plain": [
       "[1, 2, 4, 8]"
      ]
     },
     "execution_count": 46,
     "metadata": {},
     "output_type": "execute_result"
    }
   ],
   "source": [
    "a = [1, 4, 2, 8]\n",
    "a.sort()\n",
    "a"
   ]
  },
  {
   "cell_type": "code",
   "execution_count": 47,
   "metadata": {
    "ExecuteTime": {
     "end_time": "2019-11-23T02:49:48.444639Z",
     "start_time": "2019-11-23T02:49:48.440647Z"
    }
   },
   "outputs": [
    {
     "name": "stdout",
     "output_type": "stream",
     "text": [
      "[1, 2, 4, 8]\n",
      "[1, 4, 2, 8]\n"
     ]
    }
   ],
   "source": [
    "a = [1, 4, 2, 8]\n",
    "print(sorted(a))\n",
    "print(a)"
   ]
  },
  {
   "cell_type": "code",
   "execution_count": 48,
   "metadata": {
    "ExecuteTime": {
     "end_time": "2019-11-23T02:49:48.638157Z",
     "start_time": "2019-11-23T02:49:48.633133Z"
    }
   },
   "outputs": [
    {
     "data": {
      "text/plain": [
       "[1, 2, 4, 8]"
      ]
     },
     "execution_count": 48,
     "metadata": {},
     "output_type": "execute_result"
    }
   ],
   "source": [
    "a = sorted(a)\n",
    "a"
   ]
  },
  {
   "cell_type": "markdown",
   "metadata": {},
   "source": [
    "**5) Dictionary**\n",
    "- 사전을 펴보면 'people - 사람', 'rainbow - 무지개'처럼 '단어 - 뜻'으로 표현되어 있습니다.  \n",
    "- 파이썬의 딕셔너리 타입은 이러한 관계를 `key`와 `value`의 한 쌍으로 나타냅니다. \n",
    "\n",
    "- 아래의 표를 봅시다.\n",
    "\n",
    "|key|value|\n",
    "|:---|:---|\n",
    "|name|Tom|\n",
    "|phone|01012345678|\n",
    "|birth|900101|\n",
    "\n",
    "이 표를 딕셔너리 타입으로 정의하려면 어떻게 해야할까요?"
   ]
  },
  {
   "cell_type": "code",
   "execution_count": 49,
   "metadata": {
    "ExecuteTime": {
     "end_time": "2019-11-23T02:49:52.054026Z",
     "start_time": "2019-11-23T02:49:52.048000Z"
    }
   },
   "outputs": [
    {
     "data": {
      "text/plain": [
       "{'name': 'Tom', 'phone': '01012345678', 'birth': '900101'}"
      ]
     },
     "execution_count": 49,
     "metadata": {},
     "output_type": "execute_result"
    }
   ],
   "source": [
    "# 한 줄로 써도 됩니다.\n",
    "\n",
    "dic = {'name': 'Tom',\n",
    "      'phone': '01012345678', \n",
    "      'birth': '900101'}\n",
    "dic"
   ]
  },
  {
   "cell_type": "code",
   "execution_count": 50,
   "metadata": {
    "ExecuteTime": {
     "end_time": "2019-11-23T02:49:52.254483Z",
     "start_time": "2019-11-23T02:49:52.248465Z"
    }
   },
   "outputs": [
    {
     "data": {
      "text/plain": [
       "dict"
      ]
     },
     "execution_count": 50,
     "metadata": {},
     "output_type": "execute_result"
    }
   ],
   "source": [
    "type(dic)"
   ]
  },
  {
   "cell_type": "markdown",
   "metadata": {},
   "source": [
    "새로운 데이터 추가하기"
   ]
  },
  {
   "cell_type": "code",
   "execution_count": 51,
   "metadata": {
    "ExecuteTime": {
     "end_time": "2019-11-23T02:49:52.637426Z",
     "start_time": "2019-11-23T02:49:52.632439Z"
    }
   },
   "outputs": [
    {
     "data": {
      "text/plain": [
       "{'name': 'Tom', 'phone': '01012345678', 'birth': '900101', 'age': 30}"
      ]
     },
     "execution_count": 51,
     "metadata": {},
     "output_type": "execute_result"
    }
   ],
   "source": [
    "dic['age'] = 30\n",
    "dic"
   ]
  },
  {
   "cell_type": "code",
   "execution_count": 52,
   "metadata": {
    "ExecuteTime": {
     "end_time": "2019-11-23T02:49:53.024392Z",
     "start_time": "2019-11-23T02:49:53.017408Z"
    }
   },
   "outputs": [
    {
     "data": {
      "text/plain": [
       "{'1': 72}"
      ]
     },
     "execution_count": 52,
     "metadata": {},
     "output_type": "execute_result"
    }
   ],
   "source": [
    "# 키가 중복되면 덮어쓴다.\n",
    "dic2 = {'1': 30, '1':72}\n",
    "dic2"
   ]
  },
  {
   "cell_type": "markdown",
   "metadata": {
    "ExecuteTime": {
     "end_time": "2019-11-21T14:53:17.521482Z",
     "start_time": "2019-11-21T14:53:17.516495Z"
    }
   },
   "source": [
    "딕셔너리 key와 value 얻기  \n",
    "- 딕셔너리는 따로 인덱스가 없고, value는 key를 통해 얻을 수 있습니다. "
   ]
  },
  {
   "cell_type": "code",
   "execution_count": 53,
   "metadata": {
    "ExecuteTime": {
     "end_time": "2019-11-23T02:49:55.604524Z",
     "start_time": "2019-11-23T02:49:55.599505Z"
    }
   },
   "outputs": [
    {
     "data": {
      "text/plain": [
       "30"
      ]
     },
     "execution_count": 53,
     "metadata": {},
     "output_type": "execute_result"
    }
   ],
   "source": [
    "dic['age']"
   ]
  },
  {
   "cell_type": "code",
   "execution_count": 54,
   "metadata": {
    "ExecuteTime": {
     "end_time": "2019-11-23T02:49:55.823939Z",
     "start_time": "2019-11-23T02:49:55.817920Z"
    }
   },
   "outputs": [
    {
     "data": {
      "text/plain": [
       "dict_keys(['name', 'phone', 'birth', 'age'])"
      ]
     },
     "execution_count": 54,
     "metadata": {},
     "output_type": "execute_result"
    }
   ],
   "source": [
    "# key 목록 얻어오기\n",
    "dic.keys()"
   ]
  },
  {
   "cell_type": "code",
   "execution_count": 55,
   "metadata": {
    "ExecuteTime": {
     "end_time": "2019-11-23T02:49:56.037368Z",
     "start_time": "2019-11-23T02:49:56.033344Z"
    }
   },
   "outputs": [
    {
     "data": {
      "text/plain": [
       "dict_values(['Tom', '01012345678', '900101', 30])"
      ]
     },
     "execution_count": 55,
     "metadata": {},
     "output_type": "execute_result"
    }
   ],
   "source": [
    "# value 목록 얻어오기\n",
    "dic.values()"
   ]
  },
  {
   "cell_type": "code",
   "execution_count": 56,
   "metadata": {
    "ExecuteTime": {
     "end_time": "2019-11-23T02:49:56.416322Z",
     "start_time": "2019-11-23T02:49:56.410336Z"
    }
   },
   "outputs": [
    {
     "data": {
      "text/plain": [
       "dict_items([('name', 'Tom'), ('phone', '01012345678'), ('birth', '900101'), ('age', 30)])"
      ]
     },
     "execution_count": 56,
     "metadata": {},
     "output_type": "execute_result"
    }
   ],
   "source": [
    "# key와 value 쌍 얻기\n",
    "dic.items()"
   ]
  },
  {
   "cell_type": "code",
   "execution_count": null,
   "metadata": {},
   "outputs": [],
   "source": []
  },
  {
   "cell_type": "markdown",
   "metadata": {},
   "source": [
    "### 2.2 조건절(if)\n",
    "---\n",
    "> \"기온이 28도보다 높으면 에어컨을 켜고, 그보다 낮으면 에어컨을 끈다\" \n",
    "\n",
    "이렇게 어떤 조건을 판단해 그에 해당하는 상황을 수행하도록 하는 것이 `if문`입니다.<br>\n",
    "if문의 조건은 `if`, `elif`, `else`로 나타낼 수 있고, 기본 구조는 다음과 같습니다. \n",
    "\n",
    "```(.python)\n",
    "if 조건:\n",
    "    <수행할 내용>\n",
    "elif 조건:\n",
    "    <수행할 내용>\n",
    "else:\n",
    "    <수행할 내용>\n",
    "```\n",
    "\n",
    "수행할 내용은 들여쓰기를 해주어야 하고, `elif`와 `else`는 생략 가능합니다.\n",
    "\n",
    "맨 위의 문장을 if문으로 표현하면 어떻게 될까요?"
   ]
  },
  {
   "cell_type": "code",
   "execution_count": 57,
   "metadata": {
    "ExecuteTime": {
     "end_time": "2019-11-23T02:50:00.854490Z",
     "start_time": "2019-11-23T02:50:00.848504Z"
    }
   },
   "outputs": [
    {
     "name": "stdout",
     "output_type": "stream",
     "text": [
      "에어컨을 켠다\n"
     ]
    }
   ],
   "source": [
    "temp = 30\n",
    "\n",
    "if temp > 28:\n",
    "    print(\"에어컨을 켠다\")\n",
    "else:\n",
    "    print(\"에어컨을 끈다\")"
   ]
  },
  {
   "cell_type": "markdown",
   "metadata": {},
   "source": [
    "아래의 문장을 if문으로 표현해 봅시다.\n",
    "\n",
    "> \"기온이 30도보다 높으면 아이스크림을 사고, 27도~30도 사이이면 물을 사고, 27도보다 낮으면 그냥 간다\""
   ]
  },
  {
   "cell_type": "code",
   "execution_count": 58,
   "metadata": {
    "ExecuteTime": {
     "end_time": "2019-11-23T02:50:11.972724Z",
     "start_time": "2019-11-23T02:50:11.967737Z"
    }
   },
   "outputs": [
    {
     "name": "stdout",
     "output_type": "stream",
     "text": [
      "물\n"
     ]
    }
   ],
   "source": [
    "temp = 28\n",
    "\n",
    "if temp > 30:\n",
    "    print(\"아이스크림\")\n",
    "elif temp>27 and temp<30:\n",
    "    print(\"물\")\n",
    "else:\n",
    "    print(\"빈 손\")"
   ]
  },
  {
   "cell_type": "markdown",
   "metadata": {},
   "source": [
    " \n",
    "\n",
    "> \"기온이 28도보다 높으면 에어컨을 켜고, 기온이 높지만 사람이 없으면 에어컨을 끄고, 기온이 28도보다 낮으면 에어컨을 끈다\""
   ]
  },
  {
   "cell_type": "code",
   "execution_count": 59,
   "metadata": {
    "ExecuteTime": {
     "end_time": "2019-11-23T02:50:12.470425Z",
     "start_time": "2019-11-23T02:50:12.465407Z"
    }
   },
   "outputs": [
    {
     "name": "stdout",
     "output_type": "stream",
     "text": [
      "에어컨을 끈다\n"
     ]
    }
   ],
   "source": [
    "temp = 30\n",
    "someone = False\n",
    "\n",
    "if temp > 28:\n",
    "    if someone:\n",
    "        print(\"에어컨을 켠다\")\n",
    "    else:\n",
    "        print(\"에어컨을 끈다\")\n",
    "else:\n",
    "    print(\"에어컨을 끈다\")"
   ]
  },
  {
   "cell_type": "code",
   "execution_count": null,
   "metadata": {},
   "outputs": [],
   "source": []
  },
  {
   "cell_type": "markdown",
   "metadata": {},
   "source": [
    "### 2.3 반복문(Loop)\n",
    "* * *\n",
    "\n",
    "코드를 반복해서 수행해야 할 경우 `for문`이나 `while문`을 사용합니다. "
   ]
  },
  {
   "cell_type": "markdown",
   "metadata": {},
   "source": [
    "**1) for문**  \n",
    "- for문의 기본 구조는 다음과 같습니다. \n",
    "\n",
    "```(.python)\n",
    "for 변수 in 리스트(또는 문자열, 튜플):\n",
    "    <수행할 내용>\n",
    "```\n",
    "\n",
    "- 리스트(또는 문자열, 튜플)의 첫 번째 요소부터 마지막 요소까지 차례대로 변수에 대입되어 \"<수행할 내용>\" 부분이 진행됩니다. "
   ]
  },
  {
   "cell_type": "code",
   "execution_count": 60,
   "metadata": {
    "ExecuteTime": {
     "end_time": "2019-11-23T02:50:18.652894Z",
     "start_time": "2019-11-23T02:50:18.647875Z"
    }
   },
   "outputs": [
    {
     "name": "stdout",
     "output_type": "stream",
     "text": [
      "one\n",
      "two\n",
      "three\n"
     ]
    }
   ],
   "source": [
    "lst = ['one', 'two', 'three']\n",
    "\n",
    "for i in lst:\n",
    "    print(i)"
   ]
  },
  {
   "cell_type": "code",
   "execution_count": 61,
   "metadata": {
    "ExecuteTime": {
     "end_time": "2019-11-23T02:50:19.189460Z",
     "start_time": "2019-11-23T02:50:19.184441Z"
    }
   },
   "outputs": [
    {
     "name": "stdout",
     "output_type": "stream",
     "text": [
      "0\n",
      "1\n",
      "2\n",
      "3\n",
      "4\n",
      "5\n",
      "6\n",
      "7\n",
      "8\n",
      "9\n"
     ]
    }
   ],
   "source": [
    "# range(x, y, z): x부터 y까지 숫자리스트를 z만큼 증가시키면서 만들어줍니다. \n",
    "#                 z를 생략하면 자동으로 1씩 증가합니다. \n",
    "\n",
    "for i in range(0, 10): \n",
    "    print(i)"
   ]
  },
  {
   "cell_type": "markdown",
   "metadata": {
    "ExecuteTime": {
     "end_time": "2019-11-21T14:56:51.642933Z",
     "start_time": "2019-11-21T14:56:51.637954Z"
    }
   },
   "source": [
    "for 문을 사용하여 리스트의 요소를 자동으로 생성할 수 있습니다."
   ]
  },
  {
   "cell_type": "code",
   "execution_count": 62,
   "metadata": {
    "ExecuteTime": {
     "end_time": "2019-11-23T02:50:21.789476Z",
     "start_time": "2019-11-23T02:50:21.784496Z"
    }
   },
   "outputs": [
    {
     "data": {
      "text/plain": [
       "[0, 1, 2, 3, 4, 5, 6, 7, 8, 9]"
      ]
     },
     "execution_count": 62,
     "metadata": {},
     "output_type": "execute_result"
    }
   ],
   "source": [
    "lst = [i for i in range(0, 10)]\n",
    "lst"
   ]
  },
  {
   "cell_type": "code",
   "execution_count": 63,
   "metadata": {
    "ExecuteTime": {
     "end_time": "2019-11-23T02:50:22.048780Z",
     "start_time": "2019-11-23T02:50:22.042802Z"
    }
   },
   "outputs": [
    {
     "data": {
      "text/plain": [
       "[2, 3, 4, 5, 6, 7, 8, 9, 10, 11]"
      ]
     },
     "execution_count": 63,
     "metadata": {},
     "output_type": "execute_result"
    }
   ],
   "source": [
    "lst = [i + 2 for i in range(0, 10)]\n",
    "lst"
   ]
  },
  {
   "cell_type": "code",
   "execution_count": null,
   "metadata": {},
   "outputs": [],
   "source": []
  },
  {
   "cell_type": "markdown",
   "metadata": {},
   "source": [
    "### 2.4 함수\n",
    "* * *\n",
    "\n",
    "어떤 코드를 반복적으로 수행해야 할 경우, 같은 코드를 계속 작성해야 한다면 코드의 흐름을 파악하기가 어렵고 수정도 번거로워집니다. 이렇게 반복적으로 사용되는 부분을 묶어놓은 것이 함수입니다. 함수는 입력값을 받아 어떤 일을 수행한 후 그 결과를 돌려줍니다. "
   ]
  },
  {
   "cell_type": "markdown",
   "metadata": {},
   "source": [
    "함수의 구조는 다음과 같습니다. \"매개변수\"는 이 함수에 입력으로 전달되는 값을 받을 변수이며, 이 변수가 <수행할 내용>에서 사용됩니다. \n",
    "\n",
    "```(.python)\n",
    "def 함수명(매개변수):\n",
    "    <수행할 내용>\n",
    "```"
   ]
  },
  {
   "cell_type": "code",
   "execution_count": 64,
   "metadata": {
    "ExecuteTime": {
     "end_time": "2019-11-23T02:50:27.699674Z",
     "start_time": "2019-11-23T02:50:27.695682Z"
    }
   },
   "outputs": [],
   "source": [
    "def add(a, b):\n",
    "    return a + b"
   ]
  },
  {
   "cell_type": "code",
   "execution_count": 65,
   "metadata": {
    "ExecuteTime": {
     "end_time": "2019-11-23T02:50:27.919085Z",
     "start_time": "2019-11-23T02:50:27.914097Z"
    }
   },
   "outputs": [
    {
     "data": {
      "text/plain": [
       "4"
      ]
     },
     "execution_count": 65,
     "metadata": {},
     "output_type": "execute_result"
    }
   ],
   "source": [
    "c = add(1, 3)\n",
    "c"
   ]
  },
  {
   "cell_type": "code",
   "execution_count": 66,
   "metadata": {
    "ExecuteTime": {
     "end_time": "2019-11-23T02:50:28.118564Z",
     "start_time": "2019-11-23T02:50:28.114562Z"
    }
   },
   "outputs": [],
   "source": [
    "def add2(a, b):\n",
    "    a += 1\n",
    "    b += 1\n",
    "    return a + b"
   ]
  },
  {
   "cell_type": "code",
   "execution_count": 67,
   "metadata": {
    "ExecuteTime": {
     "end_time": "2019-11-23T02:50:28.318050Z",
     "start_time": "2019-11-23T02:50:28.313031Z"
    }
   },
   "outputs": [
    {
     "data": {
      "text/plain": [
       "12"
      ]
     },
     "execution_count": 67,
     "metadata": {},
     "output_type": "execute_result"
    }
   ],
   "source": [
    "c = add2(4, 6)\n",
    "c"
   ]
  },
  {
   "cell_type": "code",
   "execution_count": null,
   "metadata": {},
   "outputs": [],
   "source": []
  },
  {
   "cell_type": "code",
   "execution_count": 68,
   "metadata": {
    "ExecuteTime": {
     "end_time": "2019-11-23T02:50:31.101611Z",
     "start_time": "2019-11-23T02:50:31.095590Z"
    }
   },
   "outputs": [
    {
     "name": "stdout",
     "output_type": "stream",
     "text": [
      "[0, 1, 2, 3, 4]\n",
      "[0, 1, 2, 3, 4, 0, 1, 2, 3, 4]\n",
      "[0, 2, 4, 6, 8]\n"
     ]
    }
   ],
   "source": [
    "data = list(range(5))\n",
    "print(data)\n",
    "print(data*2)\n",
    "print([n*2 for n in data])"
   ]
  },
  {
   "cell_type": "code",
   "execution_count": 69,
   "metadata": {
    "ExecuteTime": {
     "end_time": "2019-11-23T02:50:32.013144Z",
     "start_time": "2019-11-23T02:50:31.673046Z"
    }
   },
   "outputs": [
    {
     "name": "stdout",
     "output_type": "stream",
     "text": [
      "[0 1 2 3 4]\n",
      "[0 2 4 6 8]\n"
     ]
    }
   ],
   "source": [
    "import numpy as np\n",
    "arr1d = np.array(data)\n",
    "print(arr1d)\n",
    "print(arr1d*2)"
   ]
  },
  {
   "cell_type": "code",
   "execution_count": 70,
   "metadata": {
    "ExecuteTime": {
     "end_time": "2019-11-23T02:50:32.118855Z",
     "start_time": "2019-11-23T02:50:32.113869Z"
    }
   },
   "outputs": [
    {
     "name": "stdout",
     "output_type": "stream",
     "text": [
      "[[0 1 2]\n",
      " [3 4 5]\n",
      " [6 7 8]]\n"
     ]
    }
   ],
   "source": [
    "data2 = [[0, 1, 2], [3, 4, 5], [6, 7, 8]]\n",
    "arr2d = np.array(data2)\n",
    "print(arr2d)"
   ]
  },
  {
   "cell_type": "code",
   "execution_count": null,
   "metadata": {},
   "outputs": [],
   "source": []
  },
  {
   "cell_type": "markdown",
   "metadata": {},
   "source": [
    "### 실습 2.1 : MCP 뉴런 구현하기\n",
    "---\n",
    "MCP 뉴런으로 AND, OR, NAND 논리회로 만들기"
   ]
  },
  {
   "cell_type": "markdown",
   "metadata": {},
   "source": [
    "<img src=\"img/mcp_neuron.png\" width=\"300\">"
   ]
  },
  {
   "cell_type": "markdown",
   "metadata": {},
   "source": [
    "**1) AND 게이트**"
   ]
  },
  {
   "cell_type": "code",
   "execution_count": 71,
   "metadata": {
    "ExecuteTime": {
     "end_time": "2019-11-23T02:51:08.491628Z",
     "start_time": "2019-11-23T02:51:08.487607Z"
    }
   },
   "outputs": [],
   "source": [
    "import numpy as np #numpy 라이브러리 import"
   ]
  },
  {
   "cell_type": "code",
   "execution_count": 72,
   "metadata": {
    "ExecuteTime": {
     "end_time": "2019-11-23T02:51:09.151861Z",
     "start_time": "2019-11-23T02:51:09.145846Z"
    }
   },
   "outputs": [],
   "source": [
    "# AND 게이트 함수\n",
    "def AND(x1, x2): # and 처럼 동작할까?, w, b 설정에 따라??\n",
    "    x = np.array([x1, x2])\n",
    "    w = np.array([0.5, 0.5])\n",
    "    b = -0.7\n",
    "    z = np.dot(x, w) + b # 행렬곰셈 연산 XW + b\n",
    "    \n",
    "    y = 1 if z > 0 else 0\n",
    "    return y"
   ]
  },
  {
   "cell_type": "code",
   "execution_count": 73,
   "metadata": {
    "ExecuteTime": {
     "end_time": "2019-11-23T02:51:12.149847Z",
     "start_time": "2019-11-23T02:51:12.144827Z"
    }
   },
   "outputs": [],
   "source": [
    "# 테스트 함수\n",
    "def test(logic):\n",
    "    for x1, x2 in [(0, 0), (0, 1), (1, 0), (1, 1)]:\n",
    "        y = logic(x1, x2)\n",
    "        print(x1, x2, '|', y)"
   ]
  },
  {
   "cell_type": "code",
   "execution_count": 74,
   "metadata": {
    "ExecuteTime": {
     "end_time": "2019-11-23T02:51:12.447020Z",
     "start_time": "2019-11-23T02:51:12.441038Z"
    }
   },
   "outputs": [
    {
     "name": "stdout",
     "output_type": "stream",
     "text": [
      "0 0 | 0\n",
      "0 1 | 0\n",
      "1 0 | 0\n",
      "1 1 | 1\n"
     ]
    }
   ],
   "source": [
    "test(AND)"
   ]
  },
  {
   "cell_type": "markdown",
   "metadata": {},
   "source": [
    "**2) OR 게이트**"
   ]
  },
  {
   "cell_type": "code",
   "execution_count": 75,
   "metadata": {
    "ExecuteTime": {
     "end_time": "2019-11-23T02:51:39.639309Z",
     "start_time": "2019-11-23T02:51:39.634322Z"
    }
   },
   "outputs": [],
   "source": [
    "def OR(x1, x2):\n",
    "    x = np.array([x1, x2])\n",
    "    w = np.array([0.5, 0.5])\n",
    "    b = -0.2\n",
    "    z = np.dot(x, w) + b\n",
    "\n",
    "    y = 1 if z > 0 else 0\n",
    "    return y"
   ]
  },
  {
   "cell_type": "code",
   "execution_count": 76,
   "metadata": {
    "ExecuteTime": {
     "end_time": "2019-11-23T02:51:39.894625Z",
     "start_time": "2019-11-23T02:51:39.889642Z"
    }
   },
   "outputs": [
    {
     "name": "stdout",
     "output_type": "stream",
     "text": [
      "0 0 | 0\n",
      "0 1 | 1\n",
      "1 0 | 1\n",
      "1 1 | 1\n"
     ]
    }
   ],
   "source": [
    "test(OR)"
   ]
  },
  {
   "cell_type": "markdown",
   "metadata": {},
   "source": [
    "**3) NAND 게이트**"
   ]
  },
  {
   "cell_type": "code",
   "execution_count": 77,
   "metadata": {
    "ExecuteTime": {
     "end_time": "2019-11-23T02:51:46.021244Z",
     "start_time": "2019-11-23T02:51:46.016260Z"
    }
   },
   "outputs": [],
   "source": [
    "def NAND(x1, x2):\n",
    "    x = np.array([x1, x2])\n",
    "    w = np.array([-0.5, -0.5])\n",
    "    b = 0.7\n",
    "    z = np.dot(x, w) + b\n",
    "\n",
    "    y = 1 if z > 0 else 0\n",
    "    return y"
   ]
  },
  {
   "cell_type": "code",
   "execution_count": 78,
   "metadata": {
    "ExecuteTime": {
     "end_time": "2019-11-23T02:51:56.127221Z",
     "start_time": "2019-11-23T02:51:56.121237Z"
    }
   },
   "outputs": [
    {
     "name": "stdout",
     "output_type": "stream",
     "text": [
      "0 0 | 1\n",
      "0 1 | 1\n",
      "1 0 | 1\n",
      "1 1 | 0\n"
     ]
    }
   ],
   "source": [
    "test(NAND)"
   ]
  },
  {
   "cell_type": "markdown",
   "metadata": {},
   "source": [
    "**4) 클래스 형태로 구현하기**"
   ]
  },
  {
   "cell_type": "code",
   "execution_count": 79,
   "metadata": {
    "ExecuteTime": {
     "end_time": "2019-11-23T02:52:07.939636Z",
     "start_time": "2019-11-23T02:52:07.930669Z"
    }
   },
   "outputs": [],
   "source": [
    "class MCP_neuron :\n",
    "    def net_input(self, x):\n",
    "        z = np.dot(x, self.w) + self.b\n",
    "        return z\n",
    "    \n",
    "    def activate(self, z):\n",
    "        if z > 0:\n",
    "            return 1\n",
    "        else :\n",
    "            return 0\n",
    "    \n",
    "    def predict(self, x):\n",
    "        z = self.net_input(x)\n",
    "        y = self.activate(z)\n",
    "        return y"
   ]
  },
  {
   "cell_type": "markdown",
   "metadata": {},
   "source": [
    "AND 게이트 구현하기"
   ]
  },
  {
   "cell_type": "code",
   "execution_count": 80,
   "metadata": {
    "ExecuteTime": {
     "end_time": "2019-11-23T02:52:11.243801Z",
     "start_time": "2019-11-23T02:52:11.240808Z"
    }
   },
   "outputs": [],
   "source": [
    "# 객체 생성\n",
    "AND = MCP_neuron()"
   ]
  },
  {
   "cell_type": "code",
   "execution_count": 81,
   "metadata": {
    "ExecuteTime": {
     "end_time": "2019-11-23T02:52:32.205782Z",
     "start_time": "2019-11-23T02:52:32.201760Z"
    }
   },
   "outputs": [],
   "source": [
    "AND.w = np.array([0.5, 0.5])\n",
    "AND.b = -0.7"
   ]
  },
  {
   "cell_type": "code",
   "execution_count": 82,
   "metadata": {
    "ExecuteTime": {
     "end_time": "2019-11-23T02:52:32.881942Z",
     "start_time": "2019-11-23T02:52:32.875957Z"
    }
   },
   "outputs": [
    {
     "name": "stdout",
     "output_type": "stream",
     "text": [
      "0 0 | 0\n",
      "0 1 | 0\n",
      "1 0 | 0\n",
      "1 1 | 1\n"
     ]
    }
   ],
   "source": [
    "test(lambda x1, x2 : AND.predict(np.array([x1, x2])))"
   ]
  },
  {
   "cell_type": "code",
   "execution_count": null,
   "metadata": {},
   "outputs": [],
   "source": []
  },
  {
   "cell_type": "markdown",
   "metadata": {},
   "source": [
    "### 실습 2.2 : Perceptron 구현하기\n",
    "---\n",
    "테스트 데이터로 뉴런을 학습하여 AND, OR, NAND 논리회로 만들기"
   ]
  },
  {
   "cell_type": "markdown",
   "metadata": {},
   "source": [
    "<img src=\"img/perceptron.png\" width=\"300\">"
   ]
  },
  {
   "cell_type": "markdown",
   "metadata": {},
   "source": [
    "**1) Perceptron 구현하기**"
   ]
  },
  {
   "cell_type": "code",
   "execution_count": 83,
   "metadata": {
    "ExecuteTime": {
     "end_time": "2019-11-23T02:52:46.056712Z",
     "start_time": "2019-11-23T02:52:46.049742Z"
    }
   },
   "outputs": [],
   "source": [
    "class perceptron(MCP_neuron): #MCP_neuron 클래스를 상송\n",
    "    def fit(self, X, y, learning_rate = 0.1, iterations = 10):\n",
    "        self.w = np.zeros(X.shape[1])\n",
    "        self.b = 0.\n",
    "        error_history = []\n",
    "        for n in range(iterations):\n",
    "            squared_err_sum = 0\n",
    "            for xi, yi in zip(X, y):\n",
    "                yi_pred = self.predict(xi)\n",
    "                error = yi - yi_pred\n",
    "                squared_err_sum += error**2\n",
    "                update = error * learning_rate\n",
    "                self.w += update*xi\n",
    "                self.b += update\n",
    "            error_history.append(squared_err_sum)\n",
    "        \n",
    "        return error_history"
   ]
  },
  {
   "cell_type": "markdown",
   "metadata": {},
   "source": [
    "**2) AND 게이트**"
   ]
  },
  {
   "cell_type": "code",
   "execution_count": 84,
   "metadata": {
    "ExecuteTime": {
     "end_time": "2019-11-23T02:52:53.092901Z",
     "start_time": "2019-11-23T02:52:53.088909Z"
    }
   },
   "outputs": [],
   "source": [
    "# AND 회로 학습을 위한 테스트 데이터\n",
    "X = np.array([[0, 0], \n",
    "           [0, 1],\n",
    "           [1, 0],\n",
    "           [1, 1]])\n",
    "y = np.array([0, 0, 0, 1])"
   ]
  },
  {
   "cell_type": "code",
   "execution_count": 85,
   "metadata": {
    "ExecuteTime": {
     "end_time": "2019-11-23T02:52:54.044356Z",
     "start_time": "2019-11-23T02:52:54.040366Z"
    }
   },
   "outputs": [],
   "source": [
    "AND = perceptron() #퍼셉트론 생성"
   ]
  },
  {
   "cell_type": "code",
   "execution_count": 86,
   "metadata": {
    "ExecuteTime": {
     "end_time": "2019-11-23T02:52:54.506124Z",
     "start_time": "2019-11-23T02:52:54.498141Z"
    }
   },
   "outputs": [
    {
     "data": {
      "text/plain": [
       "[1, 3, 3, 2, 1, 0, 0, 0, 0, 0]"
      ]
     },
     "execution_count": 86,
     "metadata": {},
     "output_type": "execute_result"
    }
   ],
   "source": [
    "AND.fit(X, y) # 학습"
   ]
  },
  {
   "cell_type": "code",
   "execution_count": 87,
   "metadata": {
    "ExecuteTime": {
     "end_time": "2019-11-23T02:52:58.742792Z",
     "start_time": "2019-11-23T02:52:58.737805Z"
    }
   },
   "outputs": [
    {
     "name": "stdout",
     "output_type": "stream",
     "text": [
      "0 0 | 0\n",
      "0 1 | 0\n",
      "1 0 | 0\n",
      "1 1 | 1\n"
     ]
    }
   ],
   "source": [
    "# 시험\n",
    "test(lambda x1, x2 : AND.predict(np.array([x1, x2])))"
   ]
  },
  {
   "cell_type": "code",
   "execution_count": null,
   "metadata": {},
   "outputs": [],
   "source": []
  }
 ],
 "metadata": {
  "kernelspec": {
   "display_name": "Python 3",
   "language": "python",
   "name": "python3"
  },
  "language_info": {
   "codemirror_mode": {
    "name": "ipython",
    "version": 3
   },
   "file_extension": ".py",
   "mimetype": "text/x-python",
   "name": "python",
   "nbconvert_exporter": "python",
   "pygments_lexer": "ipython3",
   "version": "3.6.8"
  }
 },
 "nbformat": 4,
 "nbformat_minor": 2
}
